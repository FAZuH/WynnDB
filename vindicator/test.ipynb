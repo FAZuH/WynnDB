{
 "cells": [
  {
   "cell_type": "code",
   "execution_count": 1,
   "metadata": {},
   "outputs": [],
   "source": [
    "import asyncio\n",
    "import importlib\n",
    "import json\n",
    "import time\n",
    "from copy import deepcopy\n",
    "from datetime import datetime\n",
    "from pprint import pprint\n",
    "from time import perf_counter\n",
    "from typing import *\n",
    "from uuid import UUID\n",
    "\n",
    "from aiohttp import ClientResponse\n",
    "\n",
    "from vindicator.database.vindicator_database import VindicatorDatabase\n",
    "from vindicator.request.fetch_guild import FetchedGuild\n",
    "from vindicator.request.fetch_player import FetchedPlayer\n",
    "from vindicator.utils.wynncraft_response_utils import WynncraftResponseUtils as WynnUtils\n",
    "\n",
    "async def astart():\n",
    "    await WynncraftAPIRequest.ainit()\n",
    "    await VindicatorDatabase.ainit()\n",
    "\n",
    "async def aclose():\n",
    "    await VindicatorDatabase._close_connection()\n",
    "    await WynncraftAPIRequest._session._close()\n",
    "\n",
    "asyncio.create_task(astart())\n",
    "\n",
    "fetched_guilds: List[FetchedGuild]\n",
    "fetched_players: List[FetchedPlayer]\n",
    "with open(\"fetched_guild.json\") as f:\n",
    "    fetched_guilds = json.load(f)\n",
    "with open(\"fetched_player.json\") as f:\n",
    "    fetched_players = json.load(f)"
   ]
  },
  {
   "cell_type": "code",
   "execution_count": null,
   "metadata": {},
   "outputs": [],
   "source": [
    "def test1():\n",
    "    query1 = \"INSERT INTO test (timestamp) VALUES (%(timestamp)s)\"\n",
    "    params1 = [{\"timestamp\": datetime.fromtimestamp(ts)} for ts in range(int(time.time()), int(time.time()) + 1_000_000)]\n",
    "    coro1 = VindicatorDatabase.write_many(query1, params1)\n",
    "    task1 = asyncio.create_task(coro1)\n",
    "    return task1\n",
    "\n",
    "def test2():\n",
    "    query2 = \"INSERT INTO test_int (timestamp) VALUES (%(timestamp)s)\"\n",
    "    params2 = [{\"timestamp\": ts} for ts in range(int(time.time()), int(time.time()) + 1_000_000)]\n",
    "    coro2 = VindicatorDatabase.write_many(query2, params2)\n",
    "    task2 = asyncio.create_task(coro2)\n",
    "    return task2\n",
    "\n",
    "def test3():\n",
    "    query = \"SELECT timestamp FROM test LIMIT 10\"\n",
    "    coro1 = VindicatorDatabase.read_all(query)\n",
    "    task1 = asyncio.create_task(coro1)\n",
    "    return task1\n",
    "\n",
    "def test4():\n",
    "    query = \"SELECT timestamp FROM test_int LIMIT 10\"\n",
    "    coro1 = VindicatorDatabase.read_all(query)\n",
    "    task1 = asyncio.create_task(coro1)\n",
    "    return task1\n",
    "\n",
    "def test5():\n",
    "    query = (\n",
    "        \"INSERT INTO player_main_info (uuid, latest_username, timestamp) \"\n",
    "        \"VALUES (%(uuid)s, %(latest_username)s, %(timestamp)s)\"\n",
    "    )\n",
    "    with open(\"uuid-username-timestamp.json\", \"r\") as f:\n",
    "        data = json.load(f)\n",
    "\n",
    "    for record in data:\n",
    "        record[\"uuid\"] = UUID(record[\"uuid\"]).bytes\n",
    "\n",
    "    params = data\n",
    "    coro = VindicatorDatabase.write_many(query, params)\n",
    "    task = asyncio.create_task(coro)\n",
    "    return task\n",
    "\n",
    "def test6(name: str):\n",
    "    coro = WynncraftAPIRequest.get_player_stats_json(name)\n",
    "    task = asyncio.create_task(coro)\n",
    "    return task\n",
    "\n",
    "async def test7(username: str):\n",
    "    params = {'username': username}\n",
    "    query = f\"SELECT uuid FROM {VindicatorTables.PLAYER_MAIN_INFO} WHERE latest_username = %(username)s\"\n",
    "    uuid = await VindicatorDatabase.read_all(query=query, params=params)\n",
    "    return uuid"
   ]
  },
  {
   "cell_type": "code",
   "execution_count": 2,
   "metadata": {},
   "outputs": [],
   "source": [
    "dict_data = {\n",
    "    \"guild_main_info\": GuildMainInfo.from_raw(fetched_guilds),\n",
    "    \"guild_main\": GuildMain.from_raw(fetched_guilds),\n",
    "    \"guild_member\": GuildMember.from_raw(fetched_guilds),\n",
    "    \"player_character_info\": PlayerCharacterInfo.from_raw(fetched_players),\n",
    "    \"player_character\": PlayerCharacter.from_raw(fetched_players),  # BUG\n",
    "    \"player_main_info\": PlayerMainInfo.from_raw(fetched_players),\n",
    "    \"player_main\": PlayerMain.from_raw(fetched_players),\n",
    "    # \"player_uptime\": PlayerUptime.from_raw(fetched_player),\n",
    "    # \"raw_latest_others\": RawLatestOthers.from_raw(fetched_player),\n",
    "    \"raw_online_guild\": RawOnlineGuild.from_raw(fetched_guilds),\n",
    "    \"raw_online_player\": RawOnlinePlayer.from_raw(fetched_players),\n",
    "    \"raw_recent_guild\": RawRecentGuild.from_raw(fetched_guilds),\n",
    "    \"raw_recent_player\": RawRecentPlayer.from_raw(fetched_players),\n",
    "}"
   ]
  },
  {
   "cell_type": "code",
   "execution_count": 3,
   "metadata": {},
   "outputs": [],
   "source": [
    "async def insert():\n",
    "    await GuildMainInfo.to_db(dict_data[\"guild_main_info\"])\n",
    "    await PlayerMainInfo.to_db(dict_data[\"player_main_info\"])\n",
    "    await PlayerCharacterInfo.to_db(dict_data[\"player_character_info\"])\n",
    "    await GuildMain.to_db(dict_data[\"guild_main\"])\n",
    "    await GuildMember.to_db(dict_data[\"guild_member\"])\n",
    "    await PlayerCharacter.to_db(dict_data[\"player_character\"])\n",
    "    await PlayerMain.to_db(dict_data[\"player_main\"])\n",
    "    # await PlayerUptime.to_db(dict_data[\"player_uptime\"])\n",
    "    # await RawLatestOthers.to_db(dict_data[\"raw_latest_others\"])\n",
    "    await RawOnlineGuild.to_db(dict_data[\"raw_online_guild\"])\n",
    "    await RawOnlinePlayer.to_db(dict_data[\"raw_online_player\"])\n",
    "    await RawRecentGuild.to_db(dict_data[\"raw_recent_guild\"])\n",
    "    await RawRecentPlayer.to_db(dict_data[\"raw_recent_player\"])"
   ]
  },
  {
   "cell_type": "code",
   "execution_count": 12,
   "metadata": {},
   "outputs": [],
   "source": [
    "task = asyncio.create_task(insert())"
   ]
  },
  {
   "cell_type": "code",
   "execution_count": 17,
   "metadata": {},
   "outputs": [
    {
     "name": "stdout",
     "output_type": "stream",
     "text": [
      "True\n",
      "None\n"
     ]
    }
   ],
   "source": [
    "print(task.done())\n",
    "print(task.result())"
   ]
  },
  {
   "cell_type": "code",
   "execution_count": 15,
   "metadata": {},
   "outputs": [
    {
     "name": "stdout",
     "output_type": "stream",
     "text": [
      "guild_main_info\n",
      "['created', 'name', 'prefix']\n",
      "\n",
      "guild_main\n",
      "['level', 'member_total', 'name', 'online_members', 'territories', 'wars', 'unique_hash']\n",
      "\n",
      "guild_member\n",
      "['joined', 'uuid', 'contributed']\n",
      "\n",
      "player_character_info\n",
      "['charcter_uuid', 'type', 'uuid']\n",
      "\n",
      "player_character\n",
      "['character_uuid', 'chests_found', 'deaths', 'discoveries', 'level', 'logins', 'mobs_killed', 'playtime', 'wars', 'xp', 'dungeon_completions', 'quest_completions', 'raid_completions', 'gamemode', 'fishing', 'woodcutting', 'mining', 'farming', 'scribing', 'jeweling', 'alchemism', 'cooking', 'weaponsmithing', 'tailoring', 'woodworking', 'armouring', 'unique_hash', 'timestamp']\n",
      "\n",
      "player_main_info\n",
      "['first_join', 'latest_username', 'server', 'timestamp', 'uuid']\n",
      "\n",
      "player_main\n",
      "['guild_name', 'guild_rank', 'playtime', 'support_rank', 'username', 'uuid', 'unique_hash', 'timestamp']\n",
      "\n",
      "raw_online_guild\n",
      "['guild_name', 'response']\n",
      "\n",
      "raw_online_player\n",
      "['response', 'uuid']\n",
      "\n",
      "raw_recent_guild\n",
      "['guild_name', 'response', 'timestamp']\n",
      "\n",
      "raw_recent_player\n",
      "['response', 'timestamp', 'uuid']\n",
      "\n"
     ]
    }
   ],
   "source": [
    "for k, v in dict_data.items():\n",
    "    print(k, list(v[0].keys()), '\\n')"
   ]
  },
  {
   "cell_type": "code",
   "execution_count": 26,
   "metadata": {},
   "outputs": [],
   "source": []
  },
  {
   "cell_type": "code",
   "execution_count": 27,
   "metadata": {},
   "outputs": [
    {
     "name": "stdout",
     "output_type": "stream",
     "text": [
      "True\n"
     ]
    },
    {
     "ename": "AssertionError",
     "evalue": "",
     "output_type": "error",
     "traceback": [
      "\u001b[1;31m---------------------------------------------------------------------------\u001b[0m",
      "\u001b[1;31mAssertionError\u001b[0m                            Traceback (most recent call last)",
      "\u001b[1;32mc:\\Users\\user\\VSCodeProjects\\Vindicator\\src\\test.ipynb Cell 9\u001b[0m line \u001b[0;36m2\n\u001b[0;32m      <a href='vscode-notebook-cell:/c%3A/Users/user/VSCodeProjects/Vindicator/src/test.ipynb#X14sZmlsZQ%3D%3D?line=0'>1</a>\u001b[0m \u001b[39mprint\u001b[39m(t\u001b[39m.\u001b[39mdone())\n\u001b[1;32m----> <a href='vscode-notebook-cell:/c%3A/Users/user/VSCodeProjects/Vindicator/src/test.ipynb#X14sZmlsZQ%3D%3D?line=1'>2</a>\u001b[0m \u001b[39mprint\u001b[39m(t\u001b[39m.\u001b[39;49mresult())\n",
      "\u001b[1;32mc:\\Users\\user\\VSCodeProjects\\Vindicator\\src\\test.ipynb Cell 9\u001b[0m line \u001b[0;36m6\n\u001b[0;32m      <a href='vscode-notebook-cell:/c%3A/Users/user/VSCodeProjects/Vindicator/src/test.ipynb#X14sZmlsZQ%3D%3D?line=3'>4</a>\u001b[0m \u001b[39masync\u001b[39;00m \u001b[39mdef\u001b[39;00m \u001b[39mmain\u001b[39m():\n\u001b[0;32m      <a href='vscode-notebook-cell:/c%3A/Users/user/VSCodeProjects/Vindicator/src/test.ipynb#X14sZmlsZQ%3D%3D?line=4'>5</a>\u001b[0m     req \u001b[39m=\u001b[39m MojangRequest()\n\u001b[1;32m----> <a href='vscode-notebook-cell:/c%3A/Users/user/VSCodeProjects/Vindicator/src/test.ipynb#X14sZmlsZQ%3D%3D?line=5'>6</a>\u001b[0m     resp \u001b[39m=\u001b[39m \u001b[39mawait\u001b[39;00m req\u001b[39m.\u001b[39mget_uuids([\u001b[39m\"\u001b[39m\u001b[39mFAZuH\u001b[39m\u001b[39m\"\u001b[39m, \u001b[39m\"\u001b[39m\u001b[39mSalted\u001b[39m\u001b[39m\"\u001b[39m, \u001b[39m\"\u001b[39m\u001b[39mJumla\u001b[39m\u001b[39m\"\u001b[39m])\n\u001b[0;32m      <a href='vscode-notebook-cell:/c%3A/Users/user/VSCodeProjects/Vindicator/src/test.ipynb#X14sZmlsZQ%3D%3D?line=6'>7</a>\u001b[0m     \u001b[39mreturn\u001b[39;00m\n",
      "File \u001b[1;32mc:\\Users\\user\\VSCodeProjects\\Vindicator\\src\\request\\mojang_request.py:28\u001b[0m, in \u001b[0;36mMojangRequest.get_uuids\u001b[1;34m(self, uuids)\u001b[0m\n\u001b[0;32m     26\u001b[0m \u001b[39masync\u001b[39;00m \u001b[39mdef\u001b[39;00m \u001b[39mget_uuids\u001b[39m(\u001b[39mself\u001b[39m, uuids: List[Union[\u001b[39mstr\u001b[39m, UUID]]) \u001b[39m-\u001b[39m\u001b[39m>\u001b[39m \u001b[39mNone\u001b[39;00m:\n\u001b[0;32m     27\u001b[0m     url_param: \u001b[39mstr\u001b[39m \u001b[39m=\u001b[39m \u001b[39m\"\u001b[39m\u001b[39mprofiles/minecraft\u001b[39m\u001b[39m\"\u001b[39m\n\u001b[1;32m---> 28\u001b[0m     resp: \u001b[39m\"\u001b[39m\u001b[39mClientResponse\u001b[39m\u001b[39m\"\u001b[39m \u001b[39m=\u001b[39m \u001b[39mawait\u001b[39;00m \u001b[39mself\u001b[39m\u001b[39m.\u001b[39mpost(url_param, uuids)\n\u001b[0;32m     30\u001b[0m     data \u001b[39m=\u001b[39m \u001b[39mawait\u001b[39;00m resp\u001b[39m.\u001b[39mjson()\n\u001b[0;32m     32\u001b[0m     \u001b[39mif\u001b[39;00m \u001b[39mnot\u001b[39;00m \u001b[39misinstance\u001b[39m(data, \u001b[39mlist\u001b[39m):\n",
      "File \u001b[1;32mc:\\Users\\user\\VSCodeProjects\\Vindicator\\src\\request\\request_base.py:87\u001b[0m, in \u001b[0;36mRequestBase.post\u001b[1;34m(self, url_param, data, ratelimit)\u001b[0m\n\u001b[0;32m     86\u001b[0m \u001b[39masync\u001b[39;00m \u001b[39mdef\u001b[39;00m \u001b[39mpost\u001b[39m(\u001b[39mself\u001b[39m, url_param: \u001b[39mstr\u001b[39m, data: Union[\u001b[39mdict\u001b[39m, \u001b[39mlist\u001b[39m], ratelimit: Optional[\u001b[39m\"\u001b[39m\u001b[39mRatelimit\u001b[39m\u001b[39m\"\u001b[39m] \u001b[39m=\u001b[39m \u001b[39mNone\u001b[39;00m) \u001b[39m-\u001b[39m\u001b[39m>\u001b[39m \u001b[39m\"\u001b[39m\u001b[39mClientResponse\u001b[39m\u001b[39m\"\u001b[39m:\n\u001b[1;32m---> 87\u001b[0m     resp: \u001b[39m\"\u001b[39m\u001b[39mClientResponse\u001b[39m\u001b[39m\"\u001b[39m \u001b[39m=\u001b[39m \u001b[39mawait\u001b[39;00m \u001b[39mself\u001b[39m\u001b[39m.\u001b[39m_session\u001b[39m.\u001b[39mpost(url_param, data\u001b[39m=\u001b[39mdata)\n\u001b[0;32m     89\u001b[0m     \u001b[39mif\u001b[39;00m resp\u001b[39m.\u001b[39mok:\n\u001b[0;32m     90\u001b[0m         \u001b[39mreturn\u001b[39;00m resp\n",
      "File \u001b[1;32mc:\\Users\\user\\VSCodeProjects\\Vindicator\\.venv\\Lib\\site-packages\\aiohttp\\client.py:449\u001b[0m, in \u001b[0;36mClientSession._request\u001b[1;34m(self, method, str_or_url, params, data, json, cookies, headers, skip_auto_headers, auth, allow_redirects, max_redirects, compress, chunked, expect100, raise_for_status, read_until_eof, proxy, proxy_auth, timeout, verify_ssl, fingerprint, ssl_context, ssl, proxy_headers, trace_request_ctx, read_bufsize)\u001b[0m\n\u001b[0;32m    446\u001b[0m proxy_headers \u001b[39m=\u001b[39m \u001b[39mself\u001b[39m\u001b[39m.\u001b[39m_prepare_headers(proxy_headers)\n\u001b[0;32m    448\u001b[0m \u001b[39mtry\u001b[39;00m:\n\u001b[1;32m--> 449\u001b[0m     url \u001b[39m=\u001b[39m \u001b[39mself\u001b[39;49m\u001b[39m.\u001b[39;49m_build_url(str_or_url)\n\u001b[0;32m    450\u001b[0m \u001b[39mexcept\u001b[39;00m \u001b[39mValueError\u001b[39;00m \u001b[39mas\u001b[39;00m e:\n\u001b[0;32m    451\u001b[0m     \u001b[39mraise\u001b[39;00m InvalidURL(str_or_url) \u001b[39mfrom\u001b[39;00m \u001b[39me\u001b[39;00m\n",
      "File \u001b[1;32mc:\\Users\\user\\VSCodeProjects\\Vindicator\\.venv\\Lib\\site-packages\\aiohttp\\client.py:387\u001b[0m, in \u001b[0;36mClientSession._build_url\u001b[1;34m(self, str_or_url)\u001b[0m\n\u001b[0;32m    385\u001b[0m     \u001b[39mreturn\u001b[39;00m url\n\u001b[0;32m    386\u001b[0m \u001b[39melse\u001b[39;00m:\n\u001b[1;32m--> 387\u001b[0m     \u001b[39massert\u001b[39;00m \u001b[39mnot\u001b[39;00m url\u001b[39m.\u001b[39mis_absolute() \u001b[39mand\u001b[39;00m url\u001b[39m.\u001b[39mpath\u001b[39m.\u001b[39mstartswith(\u001b[39m\"\u001b[39m\u001b[39m/\u001b[39m\u001b[39m\"\u001b[39m)\n\u001b[0;32m    388\u001b[0m     \u001b[39mreturn\u001b[39;00m \u001b[39mself\u001b[39m\u001b[39m.\u001b[39m_base_url\u001b[39m.\u001b[39mjoin(url)\n",
      "\u001b[1;31mAssertionError\u001b[0m: "
     ]
    }
   ],
   "source": [
    "print(t.done())\n",
    "print(t.result())"
   ]
  }
 ],
 "metadata": {
  "kernelspec": {
   "display_name": ".venv",
   "language": "python",
   "name": "python3"
  },
  "language_info": {
   "codemirror_mode": {
    "name": "ipython",
    "version": 3
   },
   "file_extension": ".py",
   "mimetype": "text/x-python",
   "name": "python",
   "nbconvert_exporter": "python",
   "pygments_lexer": "ipython3",
   "version": "3.11.6"
  }
 },
 "nbformat": 4,
 "nbformat_minor": 2
}
