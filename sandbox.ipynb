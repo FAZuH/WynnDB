{
 "cells": [
  {
   "cell_type": "code",
   "execution_count": null,
   "metadata": {},
   "outputs": [],
   "source": [
    "# imports\n",
    "# type: ignore\n",
    "from __future__ import annotations\n",
    "from dataclasses import dataclass\n",
    "from datetime import datetime as dt\n",
    "import cProfile\n",
    "from pprint import pprint\n",
    "from typing import Any\n",
    "\n",
    "import aiohttp\n",
    "\n",
    "from tests.mock_wynnapi import MockWynnApi"
   ]
  },
  {
   "cell_type": "code",
   "execution_count": null,
   "metadata": {},
   "outputs": [],
   "source": [
    "def className(obj: object) -> str:\n",
    "    return obj.__class__.__name__\n",
    "\n",
    "def getIndent(depth: int) -> str:\n",
    "    return '    ' * depth\n",
    "\n",
    "def printDictTypes(dict_: dict[str, Any], depth: int = 0) -> None:\n",
    "    for key, value in dict_.items():\n",
    "        if isinstance(value, dict):\n",
    "            print(f'{getIndent(depth)}{key}: dict')\n",
    "            printDictTypes(value, depth + 1)\n",
    "        else:\n",
    "            print(f'{getIndent(depth)}{key}: {className(value)}')\n",
    "\n",
    "async def getFullPlayerStats(username_or_uuid: str) -> tuple[dict[str, Any], dict[str, Any]]:\n",
    "    async with aiohttp.ClientSession() as session:\n",
    "        async with session.get(f\"https://api.wynncraft.com/v3/player/{username_or_uuid}?fullResult\") as resp:\n",
    "            return (await resp.json(), dict(resp.headers))\n",
    "\n",
    "async def getGuildStats(guildname_or_prefix: str, is_prefix: bool = False) -> tuple[dict[str, Any], dict[str, Any]]:\n",
    "    async with aiohttp.ClientSession() as session:\n",
    "        async with session.get(f\"https://api.wynncraft.com/v3/guild/{'prefix/' if is_prefix else ''}{guildname_or_prefix}\") as resp:\n",
    "            return (await resp.json(), dict(resp.headers))\n",
    "\n",
    "async def getOnlinePlayers() -> tuple[dict[str, Any], dict[str, Any]]:\n",
    "    async with aiohttp.ClientSession() as session:\n",
    "        async with session.get(\"https://api.wynncraft.com/v3/player?identifier=uuid\") as resp:\n",
    "            return (await resp.json(), dict(resp.headers))"
   ]
  },
  {
   "cell_type": "markdown",
   "metadata": {},
   "source": [
    "# Sandbox"
   ]
  },
  {
   "cell_type": "code",
   "execution_count": 1,
   "metadata": {},
   "outputs": [
    {
     "data": {
      "text/plain": [
       "[5, 6, 7, 8, 9, 10, 11, 12, 13, 14]"
      ]
     },
     "execution_count": 1,
     "metadata": {},
     "output_type": "execute_result"
    }
   ],
   "source": [
    "list(range(5,15))"
   ]
  },
  {
   "cell_type": "code",
   "execution_count": 2,
   "metadata": {},
   "outputs": [],
   "source": [
    "from loguru import logger\n",
    "\n",
    "from kans import config\n",
    "from kans.api import WynnApi\n",
    "from kans.db import KansDatabase\n",
    "\n",
    "\n",
    "api = WynnApi(logger)\n",
    "db = KansDatabase(config, logger)\n"
   ]
  },
  {
   "cell_type": "code",
   "execution_count": 13,
   "metadata": {},
   "outputs": [
    {
     "name": "stderr",
     "output_type": "stream",
     "text": [
      "Unclosed client session\n",
      "client_session: <aiohttp.client.ClientSession object at 0x0000019F7FC34F90>\n"
     ]
    }
   ],
   "source": [
    "from datetime import datetime\n",
    "\n",
    "\n",
    "await api.start()\n",
    "expiry1 = (await api.player.get_online_uuids()).headers.expires.to_datetime().timestamp()\n",
    "expiry2 = (await api.player.get_full_stats(\"FAZuH\")).headers.expires.to_datetime().timestamp()\n",
    "expiry3 = (await api.guild.get(\"Avicia\")).headers.expires.to_datetime().timestamp()\n",
    "now = datetime.now().timestamp()\n",
    "await api.close()"
   ]
  },
  {
   "cell_type": "code",
   "execution_count": 27,
   "metadata": {},
   "outputs": [
    {
     "name": "stdout",
     "output_type": "stream",
     "text": [
      "9.322712898254395\n",
      "117.3227128982544\n",
      "0.6772871017456055\n"
     ]
    }
   ],
   "source": [
    "print(abs(expiry1 - now))\n",
    "print(abs(expiry2 - now))\n",
    "print(abs(expiry3 - now))"
   ]
  },
  {
   "cell_type": "code",
   "execution_count": 22,
   "metadata": {},
   "outputs": [],
   "source": [
    "res = await db.query.fetch(\"SHOW TABLES LIKE '%character_info%'\")"
   ]
  },
  {
   "cell_type": "code",
   "execution_count": 1,
   "metadata": {},
   "outputs": [
    {
     "name": "stdout",
     "output_type": "stream",
     "text": [
      "hi   |hi   \n"
     ]
    }
   ],
   "source": [
    "print(\"{:5}|{:5}\".format('hi','hi'))"
   ]
  },
  {
   "cell_type": "code",
   "execution_count": 19,
   "metadata": {},
   "outputs": [
    {
     "name": "stdout",
     "output_type": "stream",
     "text": [
      "['online', 'player0', 'player1', 'player2', 'player3', 'player4', 'player5', 'player6', 'player7', 'player8', 'player9', 'player10', 'player11', 'player12', 'player13', 'player14', 'player15', 'player16', 'player17', 'player18', 'player19', 'player20', 'player21', 'player22', 'player23', 'player24', 'player25', 'player26', 'player27', 'player28', 'player29', 'player30', 'player31', 'player32', 'player33', 'player34', 'player35', 'player36', 'player37', 'player38', 'player39', 'player40', 'player41', 'player42', 'player43', 'player44', 'player45', 'player46', 'player47', 'player48', 'player49', 'player50', 'player51', 'player52', 'player53', 'player54', 'player55', 'player56', 'player57', 'player58', 'player59', 'player60', 'player61', 'player62', 'player63', 'player64', 'player65', 'player66', 'player67', 'player68', 'player69', 'player70', 'player71', 'player72', 'player73', 'player74', 'player75', 'player76', 'player77', 'player78', 'player79', 'player80', 'player81', 'player82', 'player83', 'player84', 'player85', 'player86', 'player87', 'player88', 'player89', 'player90', 'player91', 'player92', 'player93', 'player94', 'player95', 'player96', 'player97', 'player98', 'player99']\n"
     ]
    }
   ],
   "source": [
    "from kans.heartbeat.task.request_list import RequestList\n",
    "\n",
    "\n",
    "rl = RequestList()\n",
    "\n",
    "async def mock_coro(arg: str) -> str:\n",
    "    return arg\n",
    "\n",
    "rl.enqueue(100, mock_coro('online'), priority=101)\n",
    "for i in range(100):\n",
    "    rl.enqueue(0, mock_coro(f'player{i}'))\n",
    "\n",
    "items = rl.dequeue(len(rl._list))\n",
    "\n",
    "res = [await coro for coro in items]\n",
    "print(res)"
   ]
  },
  {
   "cell_type": "code",
   "execution_count": 22,
   "metadata": {},
   "outputs": [
    {
     "data": {
      "text/plain": [
       "'2024-03-01 21:05:45'"
      ]
     },
     "execution_count": 22,
     "metadata": {},
     "output_type": "execute_result"
    }
   ],
   "source": [
    "from datetime import datetime\n",
    "\n",
    "datetime.now().strftime('%Y-%m-%d %H:%M:%S')"
   ]
  },
  {
   "cell_type": "code",
   "execution_count": 27,
   "metadata": {},
   "outputs": [
    {
     "data": {
      "text/plain": [
       "'character_info'"
      ]
     },
     "execution_count": 27,
     "metadata": {},
     "output_type": "execute_result"
    }
   ],
   "source": [
    "next(iter(res[0].values()))"
   ]
  },
  {
   "cell_type": "markdown",
   "metadata": {},
   "source": [
    "# Archive"
   ]
  },
  {
   "cell_type": "code",
   "execution_count": null,
   "metadata": {},
   "outputs": [],
   "source": [
    "# dict-mapping vs match-case\n",
    "# from timeit import timeit\n",
    "\n",
    "\n",
    "# def perf_dict(inpt: str):\n",
    "#     mapping = {\n",
    "#         \"foo\": 1,\n",
    "#         \"bar\": 2,\n",
    "#         \"baz\": 3,\n",
    "#         \"qux\": 4,\n",
    "#         \"quux\": 5,\n",
    "#     }\n",
    "#     return mapping[inpt]\n",
    "\n",
    "# def perf_matchcase(inpt: str):\n",
    "#     match inpt:\n",
    "#         case \"foo\":\n",
    "#             return 1\n",
    "#         case \"bar\":\n",
    "#             return 2\n",
    "#         case \"baz\":\n",
    "#             return 3\n",
    "#         case \"qux\":\n",
    "#             return 4\n",
    "#         case \"quux\":\n",
    "#             return 5\n",
    "\n",
    "# print(timeit('perf_dict(\"qux\")', globals=globals(), number=10_000_000))\n",
    "# print(timeit('perf_matchcase(\"qux\")', globals=globals(), number=10_000_000))"
   ]
  },
  {
   "cell_type": "code",
   "execution_count": null,
   "metadata": {},
   "outputs": [],
   "source": [
    "# wynnrepo init\n",
    "# repo = WynnDataDatabase(config, logger)\n",
    "# mockdata = MockWynnApi()\n",
    "# p: PlayersResponse = mockdata.onlineuuids  # type: ignore\n",
    "# ps: list[PlayerResponse] = mockdata.onlineplayerstats  # type: ignore\n",
    "# gs: list[GuildResponse] = mockdata.onlineguildstats  # type: ignore"
   ]
  },
  {
   "cell_type": "code",
   "execution_count": null,
   "metadata": {},
   "outputs": [],
   "source": [
    "# wynnrepo createtable\n",
    "# db = WynnDataDatabase(config, None)\n",
    "# await db.character_history_repository.create_table()\n",
    "# await db.character_info_repository.create_table()\n",
    "# await db.guild_history_repository.create_table()\n",
    "# await db.guild_info_repository.create_table()\n",
    "# await db.guild_member_history_repository.create_table()\n",
    "# await db.kans_uptime_repository.create_table()\n",
    "# await db.online_players_repository.create_table()\n",
    "# await db.player_activity_history_repository.create_table()\n",
    "# await db.player_history_repository.create_table()\n",
    "# await db.player_info_repository.create_table()"
   ]
  },
  {
   "cell_type": "code",
   "execution_count": null,
   "metadata": {},
   "outputs": [],
   "source": [
    "# wynnrepo insert\n",
    "# print(await repo.character_history_repository.insert(CharacterHistory.from_responses(ps)))\n",
    "# print(await repo.character_info_repository.insert(CharacterInfo.from_responses(ps)))\n",
    "# print(await repo.guild_history_repository.insert(GuildHistory.from_responses(gs)))\n",
    "# print(await repo.guild_info_repository.insert(GuildInfo.from_responses(gs)))\n",
    "# print(await repo.guild_member_history_repository.insert(GuildMemberHistory.from_responses(gs)))\n",
    "# print(await repo.online_players_repository.insert(OnlinePlayers.from_response(p)))\n",
    "# # print(await repo.player_activity_history_repository.insert())\n",
    "# print(await repo.player_history_repository.insert(PlayerHistory.from_responses(ps)))\n",
    "# print(await repo.player_info_repository.insert(PlayerInfo.from_responses(ps)))"
   ]
  },
  {
   "cell_type": "code",
   "execution_count": null,
   "metadata": {},
   "outputs": [],
   "source": [
    "# wynnrepo count\n",
    "# print(await repo.character_history_repository.count())\n",
    "# print(await repo.character_info_repository.count())\n",
    "# print(await repo.guild_history_repository.count())\n",
    "# print(await repo.guild_info_repository.count())\n",
    "# print(await repo.guild_member_history_repository.count())\n",
    "# print(await repo.online_players_repository.count())\n",
    "# # print(await repo.player_activity_history_repository.count())\n",
    "# print(await repo.player_history_repository.count())\n",
    "# print(await repo.player_info_repository.count())"
   ]
  },
  {
   "cell_type": "code",
   "execution_count": null,
   "metadata": {},
   "outputs": [],
   "source": [
    "# list of objects: `in`, `min()`, `max()`\n",
    "# class Foo:\n",
    "#     def __init__(self, weight: int, value: str):\n",
    "#         self.weight = weight\n",
    "#         self.value = value\n",
    "\n",
    "#     def __eq__(self, value: object) -> bool:\n",
    "#         return self.value == value\n",
    "\n",
    "#     def __lt__(self, other: Foo) -> bool:\n",
    "#         return self.weight < other.weight\n",
    "\n",
    "# ch = 'abcdefghijklmnopqrstuvwxyz'\n",
    "# foos = []\n",
    "# for i in range(26):\n",
    "#     foos.append(Foo(i, ch[i]))\n",
    "\n",
    "# # 'value' in 'iterable' checks for equality of 'value' with each element in 'iterable'\n",
    "# print('g' in foos)\n",
    "# # min and max use the __lt__ magic method to compare elements in 'iterable'\n",
    "# print(min(foos).value)\n",
    "# print(max(foos).value)"
   ]
  },
  {
   "cell_type": "code",
   "execution_count": null,
   "metadata": {},
   "outputs": [],
   "source": [
    "# dbmodel creation algorithm perfomance compariosn\n",
    "# from tests.mock_wynnapi import MockWynnApi\n",
    "# from vindicator.api.wynn.player_response import PlayerResponse\n",
    "# from vindicator.db.wynndata.model.character_history.character_history import CharacterHistory\n",
    "# from vindicator.db.wynndata.model.character_info.character_info import CharacterInfo\n",
    "# from vindicator.db.wynndata.model.player_history.player_history import PlayerHistory\n",
    "# from vindicator.db.wynndata.model.player_info.player_info import PlayerInfo\n",
    "\n",
    "# mockwynnapi = MockWynnApi()\n",
    "# data: list[PlayerResponse] = mockwynnapi.onlineplayerstats  # type: ignore\n",
    "\n",
    "# def withloop():\n",
    "#     playerinfo = []\n",
    "#     characterinfo = []\n",
    "#     playerhistory = []\n",
    "#     characterhistory = []\n",
    "#     for resp in data:\n",
    "#         playerinfo.extend(PlayerInfo.from_responses((resp,)))\n",
    "#         characterinfo.extend(CharacterInfo.from_responses((resp,)))\n",
    "#         playerhistory.extend(PlayerHistory.from_responses((resp,)))\n",
    "#         characterhistory.extend(CharacterHistory.from_responses((resp,)))\n",
    "\n",
    "# def without():\n",
    "#     playerinfo: tuple[PlayerInfo, ...] = PlayerInfo.from_responses(data)\n",
    "#     characterinfo: tuple[CharacterInfo, ...] = CharacterInfo.from_responses(data)\n",
    "#     playerhistory: tuple[PlayerHistory, ...] = PlayerHistory.from_responses(data)\n",
    "#     characterhistory: tuple[CharacterHistory, ...] = CharacterHistory.from_responses(data)\n",
    "\n",
    "# cProfile.run('withloop()', sort='time')\n",
    "# cProfile.run('without()', sort='time')"
   ]
  },
  {
   "cell_type": "code",
   "execution_count": null,
   "metadata": {},
   "outputs": [],
   "source": [
    "# += vs extend()\n",
    "# r = range(50_000_000)\n",
    "# def add():\n",
    "#     l = []\n",
    "#     l += tuple(r)\n",
    "# def extend():\n",
    "#     l = []\n",
    "#     l.extend(r)\n",
    "\n",
    "# cProfile.run('add()')\n",
    "# cProfile.run('extend()')"
   ]
  },
  {
   "cell_type": "code",
   "execution_count": null,
   "metadata": {},
   "outputs": [],
   "source": [
    "# moto-bot repository structure\n",
    "# from __future__ import annotations\n",
    "# ID = TypeVar('ID', contravariant=True)\n",
    "# T = TypeVar('T')\n",
    "# S = TypeVar('S')\n",
    "# U = TypeVar('U', bound=type)\n",
    "\n",
    "# def interface(t: U) -> U: return t\n",
    "# def abstract(t: U) -> U: return t\n",
    "\n",
    "# @interface\n",
    "# class Table(Generic[T, ID], Protocol):\n",
    "#     def create(self, entity: T) -> bool: ...\n",
    "#     def exists(self, id_: ID) -> bool: ...\n",
    "#     def count(self) -> float: ...\n",
    "#     def findOne(self, id_: ID) -> None | T: ...\n",
    "#     def findAll(self) -> None | list[T]: ...\n",
    "#     def update(self, entity: T) -> bool: ...\n",
    "#     def delete(self, id_: ID) -> bool: ...\n",
    "\n",
    "# @abstract\n",
    "# class MariaRepository(ABC, Generic[S]):\n",
    "#     def __init__(self, db: Any, logger: Any) -> None:\n",
    "#         self._db: Any = db\n",
    "#         self._logger: Any = logger\n",
    "#     def _prepareStatement(self, connection: Any, sql: str, objects: list[object]) -> Any: ...\n",
    "#     def _execute(self, sql: str, strings: list[object]) -> bool: ...\n",
    "#     # def _execute(self, connection: Any, sql: str, objects: list[object]) -> bool: ...\n",
    "#     def _executeQuery(self, sql: str, objects: list[object]) -> None | Any: ...\n",
    "#     def _logResponseException(self, e: Any) -> None: ...\n",
    "#     def _bindAll(self, res: Any) -> list[S]: ...\n",
    "#     @abstractmethod\n",
    "#     def _bind(self, res: Any) -> S: ...\n",
    "\n",
    "# @interface\n",
    "# class GuildId(Protocol):\n",
    "#     def getName(self) -> str: ...\n",
    "\n",
    "# class Guild(GuildId):\n",
    "#     def __init__(self, name: str, prefix: str, createdAt: dt) -> None:\n",
    "#         self._name: str = name\n",
    "#         self._prefix: str = prefix\n",
    "#         self._createdAt: dt = createdAt\n",
    "#     @override\n",
    "#     def getName(self) -> str: return self._name\n",
    "#     def getPrefix(self) -> str: return self._prefix\n",
    "#     def getCreatedAt(self) -> dt: return self._createdAt\n",
    "\n",
    "# @interface\n",
    "# class CharacterHistoryBase(Table[Guild, GuildId], Protocol):\n",
    "#     def findAllIn(self, guildNames: list[str]) -> None | list[Guild]: ...\n",
    "#     def findAllCaseInsensitive(self, guildName: str) -> None | list[Guild]: ...\n",
    "#     def findAllByPrefix(self, prefix: str) -> None | list[Guild]: ...\n",
    "#     def findAllByPrefixCaseInsensitive(self, prefix: str) -> None | list[Guild]: ...\n",
    "\n",
    "# class CharacterHistoryTable(MariaRepository[Guild], CharacterHistoryBase):\n",
    "#     \"\"\"class::MariaGuildRepository\"\"\"\n",
    "#     _DB_FORMAT: Any\n",
    "#     def __init__(self, db: Any, logger: Any) -> None:\n",
    "#         super().__init__(db, logger)\n",
    "#     @override\n",
    "#     def _bind(self, res: Any) -> Guild: ...\n",
    "#     @override\n",
    "#     def create(self, entity: Guild) -> bool: ...\n",
    "#     @override\n",
    "#     def exists(self, id_: GuildId) -> bool: ...\n",
    "#     @override\n",
    "#     def count(self) -> float: ...\n",
    "#     @override\n",
    "#     def findOne(self, id_: GuildId) -> None | Guild: ...\n",
    "#     @override\n",
    "#     def findAllIn(self, guildNames: list[str]) -> None | list[Guild]: ...\n",
    "#     def findAllCaseInsensitive(self, guildName: str) -> None | list[Guild]: ...\n",
    "#     def findAllByPrefix(self, prefix: str) -> None | list[Guild]: ...\n",
    "#     def findAllByPrefixCaseInsensitive(self, prefix: str) -> None | list[Guild]: ...\n",
    "#     @override\n",
    "#     def findAll(self) -> None | list[Guild]: ...\n",
    "#     @override\n",
    "#     def update(self, entity: Guild) -> bool: ...\n",
    "#     @override\n",
    "#     def delete(self, id_: GuildId) -> bool: ...\n"
   ]
  }
 ],
 "metadata": {
  "kernelspec": {
   "display_name": ".venv",
   "language": "python",
   "name": "python3"
  },
  "language_info": {
   "codemirror_mode": {
    "name": "ipython",
    "version": 3
   },
   "file_extension": ".py",
   "mimetype": "text/x-python",
   "name": "python",
   "nbconvert_exporter": "python",
   "pygments_lexer": "ipython3",
   "version": "3.11.6"
  }
 },
 "nbformat": 4,
 "nbformat_minor": 2
}
