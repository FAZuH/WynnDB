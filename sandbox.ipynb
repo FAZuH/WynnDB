{
 "cells": [
  {
   "cell_type": "code",
   "execution_count": 2,
   "metadata": {},
   "outputs": [],
   "source": [
    "# imports\n",
    "# type: ignore\n",
    "from __future__ import annotations\n",
    "from datetime import datetime as dt\n",
    "import cProfile\n",
    "from pprint import pprint\n",
    "from typing import Any\n",
    "\n",
    "import aiohttp\n",
    "\n",
    "from vindicator import *\n",
    "from tests.mock_wynnapi import MockWynnApi"
   ]
  },
  {
   "cell_type": "code",
   "execution_count": 12,
   "metadata": {},
   "outputs": [],
   "source": [
    "def className(obj: object) -> str:\n",
    "    return obj.__class__.__name__\n",
    "\n",
    "def getIndent(depth: int) -> str:\n",
    "    return '    ' * depth\n",
    "\n",
    "def printDictTypes(dict_: dict[str, Any], depth: int = 0) -> None:\n",
    "    for key, value in dict_.items():\n",
    "        if isinstance(value, dict):\n",
    "            print(f'{getIndent(depth)}{key}: dict')\n",
    "            printDictTypes(value, depth + 1)\n",
    "        else:\n",
    "            print(f'{getIndent(depth)}{key}: {className(value)}')\n",
    "\n",
    "async def get_full_player_stats(username_or_uuid: str) -> tuple[dict[str, Any], dict[str, Any]]:\n",
    "    async with aiohttp.ClientSession() as session:\n",
    "        async with session.get(f\"https://api.wynncraft.com/v3/player/{username_or_uuid}?fullResult\") as resp:\n",
    "            return (await resp.json(), dict(resp.headers))\n",
    "\n",
    "async def get_guild_stats(guildname_or_prefix: str, is_prefix: bool = False) -> tuple[dict[str, Any], dict[str, Any]]:\n",
    "    async with aiohttp.ClientSession() as session:\n",
    "        async with session.get(f\"https://api.wynncraft.com/v3/guild/{'prefix/' if is_prefix else ''}{guildname_or_prefix}\") as resp:\n",
    "            return (await resp.json(), dict(resp.headers))\n",
    "\n",
    "async def get_online_players() -> tuple[dict[str, Any], dict[str, Any]]:\n",
    "    async with aiohttp.ClientSession() as session:\n",
    "        async with session.get(\"https://api.wynncraft.com/v3/player?identifier=uuid\") as resp:\n",
    "            return (await resp.json(), dict(resp.headers))"
   ]
  },
  {
   "cell_type": "markdown",
   "metadata": {},
   "source": [
    "# Sandbox"
   ]
  },
  {
   "cell_type": "code",
   "execution_count": 13,
   "metadata": {},
   "outputs": [],
   "source": [
    "repo = WynnDataRepository()\n",
    "mockdata = MockWynnApi()\n",
    "\n",
    "p: PlayersResponse = mockdata.onlineuuids  # type: ignore\n",
    "ps: list[PlayerResponse] = mockdata.onlineplayerstats  # type: ignore\n",
    "gs: list[GuildResponse] = mockdata.onlineguildstats  # type: ignore"
   ]
  },
  {
   "cell_type": "code",
   "execution_count": 14,
   "metadata": {},
   "outputs": [],
   "source": [
    "await repo.character_history_repository.create_table()\n",
    "await repo.character_info_repository.create_table()\n",
    "await repo.guild_history_repository.create_table()\n",
    "await repo.guild_info_repository.create_table()\n",
    "await repo.guild_member_history_repository.create_table()\n",
    "await repo.online_players_repository.create_table()\n",
    "await repo.player_activity_history_repository.create_table()\n",
    "await repo.player_history_repository.create_table()\n",
    "await repo.player_info_repository.create_table()"
   ]
  },
  {
   "cell_type": "code",
   "execution_count": 15,
   "metadata": {},
   "outputs": [
    {
     "name": "stdout",
     "output_type": "stream",
     "text": [
      "2925\n",
      "0\n",
      "114\n",
      "114\n",
      "249\n",
      "-1\n",
      "657\n",
      "657\n"
     ]
    }
   ],
   "source": [
    "print(await repo.character_history_repository.insert(CharacterHistory.from_responses(ps)))\n",
    "print(await repo.character_info_repository.insert(CharacterInfo.from_responses(ps)))\n",
    "print(await repo.guild_history_repository.insert(GuildHistory.from_responses(gs)))\n",
    "print(await repo.guild_info_repository.insert(GuildInfo.from_responses(gs)))\n",
    "print(await repo.guild_member_history_repository.insert(GuildMemberHistory.from_responses(gs)))\n",
    "print(await repo.online_players_repository.insert(OnlinePlayers.from_response(p)))\n",
    "# print(await repo.player_activity_history_repository.insert())\n",
    "print(await repo.player_history_repository.insert(PlayerHistory.from_responses(ps)))\n",
    "print(await repo.player_info_repository.insert(PlayerInfo.from_responses(ps)))"
   ]
  },
  {
   "cell_type": "code",
   "execution_count": 16,
   "metadata": {},
   "outputs": [
    {
     "name": "stdout",
     "output_type": "stream",
     "text": [
      "2925\n",
      "2925\n",
      "114\n",
      "114\n",
      "249\n",
      "657\n",
      "657\n",
      "657\n"
     ]
    }
   ],
   "source": [
    "print(await repo.character_history_repository.count())\n",
    "print(await repo.character_info_repository.count())\n",
    "print(await repo.guild_history_repository.count())\n",
    "print(await repo.guild_info_repository.count())\n",
    "print(await repo.guild_member_history_repository.count())\n",
    "print(await repo.online_players_repository.count())\n",
    "# print(await repo.player_activity_history_repository.count())\n",
    "print(await repo.player_history_repository.count())\n",
    "print(await repo.player_info_repository.count())"
   ]
  },
  {
   "cell_type": "markdown",
   "metadata": {},
   "source": [
    "# Archive"
   ]
  },
  {
   "cell_type": "code",
   "execution_count": 17,
   "metadata": {},
   "outputs": [],
   "source": [
    "# list of objects: `in`, `min()`, `max()`\n",
    "# class Foo:\n",
    "#     def __init__(self, weight: int, value: str):\n",
    "#         self.weight = weight\n",
    "#         self.value = value\n",
    "\n",
    "#     def __eq__(self, value: object) -> bool:\n",
    "#         return self.value == value\n",
    "\n",
    "#     def __lt__(self, other: Foo) -> bool:\n",
    "#         return self.weight < other.weight\n",
    "\n",
    "# ch = 'abcdefghijklmnopqrstuvwxyz'\n",
    "# foos = []\n",
    "# for i in range(26):\n",
    "#     foos.append(Foo(i, ch[i]))\n",
    "\n",
    "# # 'value' in 'iterable' checks for equality of 'value' with each element in 'iterable'\n",
    "# print('g' in foos)\n",
    "# # min and max use the __lt__ magic method to compare elements in 'iterable'\n",
    "# print(min(foos).value)\n",
    "# print(max(foos).value)"
   ]
  },
  {
   "cell_type": "code",
   "execution_count": 18,
   "metadata": {},
   "outputs": [],
   "source": [
    "# dbmodel creation algorithm perfomance compariosn\n",
    "# from tests.mock_wynnapi import MockWynnApi\n",
    "# from vindicator.api.wynn.player_response import PlayerResponse\n",
    "# from vindicator.db.wynndata.model.character_history.character_history import CharacterHistory\n",
    "# from vindicator.db.wynndata.model.character_info.character_info import CharacterInfo\n",
    "# from vindicator.db.wynndata.model.player_history.player_history import PlayerHistory\n",
    "# from vindicator.db.wynndata.model.player_info.player_info import PlayerInfo\n",
    "\n",
    "# mockwynnapi = MockWynnApi()\n",
    "# data: list[PlayerResponse] = mockwynnapi.onlineplayerstats  # type: ignore\n",
    "\n",
    "# def withloop():\n",
    "#     playerinfo = []\n",
    "#     characterinfo = []\n",
    "#     playerhistory = []\n",
    "#     characterhistory = []\n",
    "#     for resp in data:\n",
    "#         playerinfo.extend(PlayerInfo.from_responses((resp,)))\n",
    "#         characterinfo.extend(CharacterInfo.from_responses((resp,)))\n",
    "#         playerhistory.extend(PlayerHistory.from_responses((resp,)))\n",
    "#         characterhistory.extend(CharacterHistory.from_responses((resp,)))\n",
    "\n",
    "# def without():\n",
    "#     playerinfo: tuple[PlayerInfo, ...] = PlayerInfo.from_responses(data)\n",
    "#     characterinfo: tuple[CharacterInfo, ...] = CharacterInfo.from_responses(data)\n",
    "#     playerhistory: tuple[PlayerHistory, ...] = PlayerHistory.from_responses(data)\n",
    "#     characterhistory: tuple[CharacterHistory, ...] = CharacterHistory.from_responses(data)\n",
    "\n",
    "# cProfile.run('withloop()', sort='time')\n",
    "# cProfile.run('without()', sort='time')"
   ]
  },
  {
   "cell_type": "code",
   "execution_count": 19,
   "metadata": {},
   "outputs": [],
   "source": [
    "# += vs extend()\n",
    "# r = range(50_000_000)\n",
    "# def add():\n",
    "#     l = []\n",
    "#     l += tuple(r)\n",
    "# def extend():\n",
    "#     l = []\n",
    "#     l.extend(r)\n",
    "\n",
    "# cProfile.run('add()')\n",
    "# cProfile.run('extend()')"
   ]
  },
  {
   "cell_type": "code",
   "execution_count": 20,
   "metadata": {},
   "outputs": [],
   "source": [
    "# moto-bot repository structure\n",
    "# from __future__ import annotations\n",
    "# ID = TypeVar('ID', contravariant=True)\n",
    "# T = TypeVar('T')\n",
    "# S = TypeVar('S')\n",
    "# U = TypeVar('U', bound=type)\n",
    "\n",
    "# def interface(t: U) -> U: return t\n",
    "# def abstract(t: U) -> U: return t\n",
    "\n",
    "# @interface\n",
    "# class Table(Generic[T, ID], Protocol):\n",
    "#     def create(self, entity: T) -> bool: ...\n",
    "#     def exists(self, id_: ID) -> bool: ...\n",
    "#     def count(self) -> float: ...\n",
    "#     def findOne(self, id_: ID) -> None | T: ...\n",
    "#     def findAll(self) -> None | list[T]: ...\n",
    "#     def update(self, entity: T) -> bool: ...\n",
    "#     def delete(self, id_: ID) -> bool: ...\n",
    "\n",
    "# @abstract\n",
    "# class MariaRepository(ABC, Generic[S]):\n",
    "#     def __init__(self, db: Any, logger: Any) -> None:\n",
    "#         self._db: Any = db\n",
    "#         self._logger: Any = logger\n",
    "#     def _prepareStatement(self, connection: Any, sql: str, objects: list[object]) -> Any: ...\n",
    "#     def _execute(self, sql: str, strings: list[object]) -> bool: ...\n",
    "#     # def _execute(self, connection: Any, sql: str, objects: list[object]) -> bool: ...\n",
    "#     def _executeQuery(self, sql: str, objects: list[object]) -> None | Any: ...\n",
    "#     def _logResponseException(self, e: Any) -> None: ...\n",
    "#     def _bindAll(self, res: Any) -> list[S]: ...\n",
    "#     @abstractmethod\n",
    "#     def _bind(self, res: Any) -> S: ...\n",
    "\n",
    "# @interface\n",
    "# class GuildId(Protocol):\n",
    "#     def getName(self) -> str: ...\n",
    "\n",
    "# class Guild(GuildId):\n",
    "#     def __init__(self, name: str, prefix: str, createdAt: dt) -> None:\n",
    "#         self._name: str = name\n",
    "#         self._prefix: str = prefix\n",
    "#         self._createdAt: dt = createdAt\n",
    "#     @override\n",
    "#     def getName(self) -> str: return self._name\n",
    "#     def getPrefix(self) -> str: return self._prefix\n",
    "#     def getCreatedAt(self) -> dt: return self._createdAt\n",
    "\n",
    "# @interface\n",
    "# class CharacterHistoryBase(Table[Guild, GuildId], Protocol):\n",
    "#     def findAllIn(self, guildNames: list[str]) -> None | list[Guild]: ...\n",
    "#     def findAllCaseInsensitive(self, guildName: str) -> None | list[Guild]: ...\n",
    "#     def findAllByPrefix(self, prefix: str) -> None | list[Guild]: ...\n",
    "#     def findAllByPrefixCaseInsensitive(self, prefix: str) -> None | list[Guild]: ...\n",
    "\n",
    "# class CharacterHistoryTable(MariaRepository[Guild], CharacterHistoryBase):\n",
    "#     \"\"\"class::MariaGuildRepository\"\"\"\n",
    "#     _DB_FORMAT: Any\n",
    "#     def __init__(self, db: Any, logger: Any) -> None:\n",
    "#         super().__init__(db, logger)\n",
    "#     @override\n",
    "#     def _bind(self, res: Any) -> Guild: ...\n",
    "#     @override\n",
    "#     def create(self, entity: Guild) -> bool: ...\n",
    "#     @override\n",
    "#     def exists(self, id_: GuildId) -> bool: ...\n",
    "#     @override\n",
    "#     def count(self) -> float: ...\n",
    "#     @override\n",
    "#     def findOne(self, id_: GuildId) -> None | Guild: ...\n",
    "#     @override\n",
    "#     def findAllIn(self, guildNames: list[str]) -> None | list[Guild]: ...\n",
    "#     def findAllCaseInsensitive(self, guildName: str) -> None | list[Guild]: ...\n",
    "#     def findAllByPrefix(self, prefix: str) -> None | list[Guild]: ...\n",
    "#     def findAllByPrefixCaseInsensitive(self, prefix: str) -> None | list[Guild]: ...\n",
    "#     @override\n",
    "#     def findAll(self) -> None | list[Guild]: ...\n",
    "#     @override\n",
    "#     def update(self, entity: Guild) -> bool: ...\n",
    "#     @override\n",
    "#     def delete(self, id_: GuildId) -> bool: ...\n"
   ]
  }
 ],
 "metadata": {
  "kernelspec": {
   "display_name": ".venv",
   "language": "python",
   "name": "python3"
  },
  "language_info": {
   "codemirror_mode": {
    "name": "ipython",
    "version": 3
   },
   "file_extension": ".py",
   "mimetype": "text/x-python",
   "name": "python",
   "nbconvert_exporter": "python",
   "pygments_lexer": "ipython3",
   "version": "3.11.6"
  }
 },
 "nbformat": 4,
 "nbformat_minor": 2
}
