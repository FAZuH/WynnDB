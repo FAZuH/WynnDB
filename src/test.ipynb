{
 "cells": [
  {
   "cell_type": "code",
   "execution_count": null,
   "metadata": {},
   "outputs": [],
   "source": [
    "import asyncio\n",
    "\n",
    "from request.request import Request\n",
    "\n",
    "vdc_request = Request()\n",
    "\n",
    "asyncio.create_task(vdc_request.start())\n"
   ]
  },
  {
   "cell_type": "code",
   "execution_count": null,
   "metadata": {},
   "outputs": [],
   "source": [
    "online_players = asyncio.create_task(vdc_request.get_online_player_response())\n",
    "avicia = asyncio.create_task(vdc_request.get_guild_response(\"Avicia\", False))\n",
    "lindafelix = asyncio.create_task(vdc_request.get_player_response(\"lindafelix\"))\n",
    "fazuh = asyncio.create_task(vdc_request.get_player_response(\"FAZuH\"))\n",
    "marcus = asyncio.create_task(vdc_request.get_player_response(\"Maarcus1\"))"
   ]
  },
  {
   "cell_type": "code",
   "execution_count": null,
   "metadata": {},
   "outputs": [],
   "source": [
    "from pprint import pprint\n",
    "from datetime import datetime"
   ]
  },
  {
   "cell_type": "code",
   "execution_count": null,
   "metadata": {},
   "outputs": [],
   "source": [
    "online_player_resp = online_players.result()\n",
    "lindafelix_resp = lindafelix.result()\n",
    "avicia_resp = avicia.result()\n",
    "\n",
    "fazuh_resp = fazuh.result()\n",
    "marcus_resp = marcus.result()\n",
    "\n",
    "fazuh_content = asyncio.create_task(fazuh_resp.json())\n",
    "marcus_content = asyncio.create_task(marcus_resp.json())"
   ]
  },
  {
   "cell_type": "code",
   "execution_count": null,
   "metadata": {},
   "outputs": [],
   "source": [
    "fazuh_content = fazuh_content.result()\n",
    "marcus_content = marcus_content.result()"
   ]
  },
  {
   "cell_type": "code",
   "execution_count": null,
   "metadata": {},
   "outputs": [],
   "source": [
    "head_dict = {k: v for k, v in online_player_resp.headers.items()}\n",
    "pprint(head_dict)\n",
    "expire_dt = datetime.strptime(head_dict[\"Expires\"], '%a, %d %b %Y %H:%M:%S %Z')"
   ]
  },
  {
   "cell_type": "code",
   "execution_count": null,
   "metadata": {},
   "outputs": [],
   "source": [
    "import mysql.connector"
   ]
  },
  {
   "cell_type": "code",
   "execution_count": null,
   "metadata": {},
   "outputs": [],
   "source": [
    "db = mysql.connector.connect(\n",
    "    host=\"localhost\",\n",
    "    user=\"root\",\n",
    "    password=\"root\"\n",
    ")\n",
    "cursor = db.cursor()"
   ]
  },
  {
   "cell_type": "code",
   "execution_count": null,
   "metadata": {},
   "outputs": [],
   "source": [
    "cursor.close()"
   ]
  },
  {
   "cell_type": "code",
   "execution_count": null,
   "metadata": {},
   "outputs": [],
   "source": [
    "pprint(marcus_content)"
   ]
  },
  {
   "cell_type": "code",
   "execution_count": null,
   "metadata": {},
   "outputs": [],
   "source": [
    "marcus_ch_uuids = [e for e in marcus_content[\"characters\"].keys()]"
   ]
  },
  {
   "cell_type": "code",
   "execution_count": null,
   "metadata": {},
   "outputs": [],
   "source": [
    "xps = []\n",
    "blockss = []\n",
    "items_idd = []\n",
    "for chuuid in marcus_ch_uuids:\n",
    "    xps.append(marcus_content[\"characters\"][chuuid][\"xp\"])\n",
    "    blockss.append(marcus_content[\"characters\"][chuuid][\"blocksWalked\"])\n",
    "    items_idd.append(marcus_content[\"characters\"][chuuid][\"itemsIdentified\"])\n",
    "xps.sort()\n",
    "blockss.sort()"
   ]
  },
  {
   "cell_type": "code",
   "execution_count": null,
   "metadata": {},
   "outputs": [],
   "source": [
    "for e in items_idd:\n",
    "    print(f\"{e:,}\")"
   ]
  },
  {
   "cell_type": "code",
   "execution_count": 33,
   "metadata": {},
   "outputs": [
    {
     "name": "stdout",
     "output_type": "stream",
     "text": [
      "1,698,003,319.7769663\n"
     ]
    }
   ],
   "source": [
    "from time import time\n",
    "print(f\"{time():,}\")"
   ]
  },
  {
   "cell_type": "code",
   "execution_count": null,
   "metadata": {},
   "outputs": [],
   "source": []
  }
 ],
 "metadata": {
  "kernelspec": {
   "display_name": "Python 3",
   "language": "python",
   "name": "python3"
  },
  "language_info": {
   "codemirror_mode": {
    "name": "ipython",
    "version": 3
   },
   "file_extension": ".py",
   "mimetype": "text/x-python",
   "name": "python",
   "nbconvert_exporter": "python",
   "pygments_lexer": "ipython3",
   "version": "3.11.4"
  }
 },
 "nbformat": 4,
 "nbformat_minor": 2
}
