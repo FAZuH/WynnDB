{
 "cells": [
  {
   "cell_type": "code",
   "execution_count": 1,
   "metadata": {},
   "outputs": [],
   "source": [
    "from pprint import pprint\n",
    "import time\n",
    "from datetime import datetime\n",
    "from dateutil import tz\n",
    "import pytz\n",
    "import json\n",
    "from uuid import UUID\n",
    "import asyncio\n",
    "from copy import deepcopy\n",
    "from utils.wynncraft_response_utils import WynncraftResponseUtils as WynnUtils\n",
    "from request.request_wynncraft import RequestWynncraft\n",
    "from settings import VindicatorTables\n",
    "from mojang import API\n",
    "from database.vindicator_database import VindicatorDatabase\n",
    "\n",
    "from typing import TYPE_CHECKING, Any, Dict, List\n",
    "\n",
    "if TYPE_CHECKING:\n",
    "    from aiohttp import ClientResponse"
   ]
  },
  {
   "cell_type": "code",
   "execution_count": 2,
   "metadata": {},
   "outputs": [
    {
     "data": {
      "text/plain": [
       "<Task pending name='Task-5' coro=<ainit_all() running at C:\\Users\\user\\AppData\\Local\\Temp\\ipykernel_1952\\1110673793.py:1>>"
      ]
     },
     "execution_count": 2,
     "metadata": {},
     "output_type": "execute_result"
    }
   ],
   "source": [
    "async def ainit_all():\n",
    "    await RequestWynncraft.ainit()\n",
    "    await VindicatorDatabase.ainit()\n",
    "\n",
    "asyncio.create_task(ainit_all())"
   ]
  },
  {
   "cell_type": "code",
   "execution_count": 3,
   "metadata": {},
   "outputs": [],
   "source": [
    "def test1():\n",
    "    query1 = \"INSERT INTO test (timestamp) VALUES (%(timestamp)s)\"\n",
    "    params1 = [{\"timestamp\": datetime.fromtimestamp(ts)} for ts in range(int(time.time()), int(time.time()) + 1_000_000)]\n",
    "    coro1 = VindicatorDatabase.write_many(query1, params1)\n",
    "    task1 = asyncio.create_task(coro1)\n",
    "    return task1\n",
    "\n",
    "def test2():\n",
    "    query2 = \"INSERT INTO test_int (timestamp) VALUES (%(timestamp)s)\"\n",
    "    params2 = [{\"timestamp\": ts} for ts in range(int(time.time()), int(time.time()) + 1_000_000)]\n",
    "    coro2 = VindicatorDatabase.write_many(query2, params2)\n",
    "    task2 = asyncio.create_task(coro2)\n",
    "    return task2\n",
    "\n",
    "def test3():\n",
    "    query = \"SELECT timestamp FROM test LIMIT 10\"\n",
    "    coro1 = VindicatorDatabase.read_all(query)\n",
    "    task1 = asyncio.create_task(coro1)\n",
    "    return task1\n",
    "\n",
    "def test4():\n",
    "    query = \"SELECT timestamp FROM test_int LIMIT 10\"\n",
    "    coro1 = VindicatorDatabase.read_all(query)\n",
    "    task1 = asyncio.create_task(coro1)\n",
    "    return task1\n",
    "\n",
    "def test5():\n",
    "    query = (\n",
    "        \"INSERT INTO player_main_info (uuid, latest_username, timestamp) \"\n",
    "        \"VALUES (%(uuid)s, %(latest_username)s, %(timestamp)s)\"\n",
    "    )\n",
    "    with open(\"uuid-username-timestamp.json\", \"r\") as f:\n",
    "        data = json.load(f)\n",
    "\n",
    "    for record in data:\n",
    "        record[\"uuid\"] = UUID(record[\"uuid\"]).bytes\n",
    "\n",
    "    params = data\n",
    "    coro = VindicatorDatabase.write_many(query, params)\n",
    "    task = asyncio.create_task(coro)\n",
    "    return task\n",
    "\n",
    "def test6(name: str):\n",
    "    coro = RequestWynncraft.get_player_stats(name)\n",
    "    task = asyncio.create_task(coro)\n",
    "    return task\n",
    "\n",
    "async def test7(username: str):\n",
    "    params = {'username': username}\n",
    "    query = f\"SELECT uuid FROM {VindicatorTables.PLAYER_MAIN_INFO} WHERE latest_username = %(username)s\"\n",
    "    uuid = await VindicatorDatabase.read_all(query=query, params=params)\n",
    "    return uuid"
   ]
  },
  {
   "cell_type": "code",
   "execution_count": 4,
   "metadata": {},
   "outputs": [],
   "source": [
    "task = test6(\"parrottv1\")"
   ]
  },
  {
   "cell_type": "code",
   "execution_count": 5,
   "metadata": {},
   "outputs": [
    {
     "name": "stdout",
     "output_type": "stream",
     "text": [
      "task.done()=True\n"
     ]
    },
    {
     "ename": "Exception",
     "evalue": "Error 500 - Internal Server Error",
     "output_type": "error",
     "traceback": [
      "\u001b[1;31m---------------------------------------------------------------------------\u001b[0m",
      "\u001b[1;31mException\u001b[0m                                 Traceback (most recent call last)",
      "\u001b[1;32mc:\\Users\\user\\VSCodeProjects\\Vindicator\\src\\test.ipynb Cell 5\u001b[0m line \u001b[0;36m2\n\u001b[0;32m      <a href='vscode-notebook-cell:/c%3A/Users/user/VSCodeProjects/Vindicator/src/test.ipynb#W4sZmlsZQ%3D%3D?line=0'>1</a>\u001b[0m \u001b[39mprint\u001b[39m(\u001b[39mf\u001b[39m\u001b[39m\"\u001b[39m\u001b[39m{\u001b[39;00mtask\u001b[39m.\u001b[39mdone()\u001b[39m=}\u001b[39;00m\u001b[39m\"\u001b[39m)\n\u001b[1;32m----> <a href='vscode-notebook-cell:/c%3A/Users/user/VSCodeProjects/Vindicator/src/test.ipynb#W4sZmlsZQ%3D%3D?line=1'>2</a>\u001b[0m pprint(task\u001b[39m.\u001b[39;49mresult())\n",
      "File \u001b[1;32mc:\\Users\\user\\VSCodeProjects\\Vindicator\\src\\request\\request_wynncraft.py:50\u001b[0m, in \u001b[0;36mRequestWynncraft.get_player_stats\u001b[1;34m(cls, username_or_uuid, json_response)\u001b[0m\n\u001b[0;32m     47\u001b[0m \u001b[39m@classmethod\u001b[39m\n\u001b[0;32m     48\u001b[0m \u001b[39masync\u001b[39;00m \u001b[39mdef\u001b[39;00m \u001b[39mget_player_stats\u001b[39m(\u001b[39mcls\u001b[39m, username_or_uuid: \u001b[39mstr\u001b[39m, json_response: \u001b[39mbool\u001b[39m \u001b[39m=\u001b[39m \u001b[39mTrue\u001b[39;00m) \u001b[39m-\u001b[39m\u001b[39m>\u001b[39m Union[\u001b[39m\"\u001b[39m\u001b[39mClientResponse\u001b[39m\u001b[39m\"\u001b[39m, \u001b[39m\"\u001b[39m\u001b[39mPlayerStats\u001b[39m\u001b[39m\"\u001b[39m]:\n\u001b[0;32m     49\u001b[0m     url_parameters \u001b[39m=\u001b[39m \u001b[39mf\u001b[39m\u001b[39m\"\u001b[39m\u001b[39mplayer/\u001b[39m\u001b[39m{\u001b[39;00musername_or_uuid\u001b[39m}\u001b[39;00m\u001b[39m?fullResult=True\u001b[39m\u001b[39m\"\u001b[39m\n\u001b[1;32m---> 50\u001b[0m     ret \u001b[39m=\u001b[39m \u001b[39mawait\u001b[39;00m \u001b[39mcls\u001b[39m\u001b[39m.\u001b[39m_session\u001b[39m.\u001b[39mget(url_parameters, ratelimit_manager\u001b[39m=\u001b[39m\u001b[39mcls\u001b[39m\u001b[39m.\u001b[39m_player_rlm)\n\u001b[0;32m     51\u001b[0m     \u001b[39mreturn\u001b[39;00m \u001b[39mawait\u001b[39;00m ret\u001b[39m.\u001b[39mjson() \u001b[39mif\u001b[39;00m json_response \u001b[39melse\u001b[39;00m ret\n",
      "File \u001b[1;32mc:\\Users\\user\\VSCodeProjects\\Vindicator\\src\\request\\request_base.py:53\u001b[0m, in \u001b[0;36mRequestBase.get\u001b[1;34m(self, url_parameters, ratelimit_manager)\u001b[0m\n\u001b[0;32m     51\u001b[0m     \u001b[39mawait\u001b[39;00m \u001b[39mself\u001b[39m\u001b[39m.\u001b[39mget(url_parameters, ratelimit_manager)\n\u001b[0;32m     52\u001b[0m \u001b[39melse\u001b[39;00m:\n\u001b[1;32m---> 53\u001b[0m     \u001b[39mraise\u001b[39;00m \u001b[39mException\u001b[39;00m(\u001b[39mf\u001b[39m\u001b[39m\"\u001b[39m\u001b[39mError \u001b[39m\u001b[39m{\u001b[39;00mresponse\u001b[39m.\u001b[39mstatus\u001b[39m}\u001b[39;00m\u001b[39m - \u001b[39m\u001b[39m{\u001b[39;00mresponse\u001b[39m.\u001b[39mreason\u001b[39m}\u001b[39;00m\u001b[39m\"\u001b[39m)\n",
      "\u001b[1;31mException\u001b[0m: Error 500 - Internal Server Error"
     ]
    }
   ],
   "source": [
    "print(f\"{task.done()=}\")\n",
    "pprint(task.result())"
   ]
  },
  {
   "cell_type": "code",
   "execution_count": 21,
   "metadata": {},
   "outputs": [
    {
     "data": {
      "text/plain": [
       "<Task pending name='Task-11' coro=<RequestBase._close() running at c:\\Users\\user\\VSCodeProjects\\Vindicator\\src\\request\\request_base.py:34>>"
      ]
     },
     "execution_count": 21,
     "metadata": {},
     "output_type": "execute_result"
    }
   ],
   "source": [
    "asyncio.create_task(VindicatorDatabase._close_connection())\n",
    "asyncio.create_task(RequestWynncraft._session._close())"
   ]
  },
  {
   "cell_type": "code",
   "execution_count": 28,
   "metadata": {},
   "outputs": [],
   "source": [
    "def parse_gamemode(gamemodebyte: bytes) -> List[str]:\n",
    "    ret = []\n",
    "\n",
    "    byte_value = int.from_bytes(gamemodebyte, byteorder='big')  # Byte to int\n",
    "    is_hardcore = (byte_value & (1 << 0)) != 0\n",
    "    is_ultimate = (byte_value & (1 << 1)) != 0\n",
    "    is_ironman = (byte_value & (1 << 2)) != 0\n",
    "    is_craftsman = (byte_value & (1 << 3)) != 0\n",
    "    is_hunted = (byte_value & (1 << 4)) != 0\n",
    "\n",
    "    if is_hardcore:\n",
    "        ret.append(\"hardcore\")\n",
    "    if is_ultimate:\n",
    "        ret.append(\"ultimate\")\n",
    "    if is_ironman:\n",
    "        ret.append(\"ironman\")\n",
    "    if is_craftsman:\n",
    "        ret.append(\"craftsman\")\n",
    "    if is_hunted:\n",
    "        ret.append(\"hunted\")\n",
    "\n",
    "    return ret\n",
    "\n",
    "def format_gamemodes(gamemodeslist: List[str]) -> bytes:\n",
    "    gamemode_byte = 0  # Initialize a byte to 0\n",
    "\n",
    "    gamemode_mapping = {\n",
    "        \"hardcore\": 0,\n",
    "        \"ultimate\": 1,\n",
    "        \"ironman\": 2,\n",
    "        \"craftsman\": 3,\n",
    "        \"hunted\": 4\n",
    "    }\n",
    "\n",
    "    # Set the corresponding bits in the byte\n",
    "    for gamemode in gamemodeslist:\n",
    "        if gamemode not in gamemode_mapping:\n",
    "            raise ValueError(f\"Invalid gamemode: {gamemode}\")\n",
    "\n",
    "        bit_position = gamemode_mapping[gamemode]\n",
    "        gamemode_byte |= (1 << bit_position)\n",
    "\n",
    "    ret = gamemode_byte.to_bytes(1, byteorder='big')\n",
    "    return ret\n",
    "\n",
    "one = parse_gamemode(bytes([0b10000]))\n",
    "two = format_gamemodes([\"hardcore\", \"ultimate\", \"ironman\", \"craftsman\", \"hunted\"])\n",
    "three = format_gamemodes([\"hardcore\", \"hunted\"])\n",
    "four = parse_gamemode(two)\n",
    "five = parse_gamemode(three)\n",
    "\n",
    "print(f'{one=}')\n",
    "print(f'{two=}')\n",
    "print(f'{three=}')\n",
    "print(f'{four=}')\n",
    "print(f'{five=}')"
   ]
  },
  {
   "cell_type": "code",
   "execution_count": 33,
   "metadata": {},
   "outputs": [
    {
     "data": {
      "text/plain": [
       "'5651a4116471402cb5999042c4de5088'"
      ]
     },
     "execution_count": 33,
     "metadata": {},
     "output_type": "execute_result"
    }
   ],
   "source": [
    "mojang = API()\n",
    "mojang.get_uuid(\"umineko0o0_\")"
   ]
  },
  {
   "cell_type": "code",
   "execution_count": 2,
   "metadata": {},
   "outputs": [
    {
     "name": "stdout",
     "output_type": "stream",
     "text": [
      "a\n",
      "b\n"
     ]
    }
   ],
   "source": [
    "from typing import TypedDict\n",
    "\n",
    "Test = TypedDict(\"Test\", {\"a\": int, \"b\": str})\n",
    "for a in Test.__annotations__:\n",
    "    print(a)"
   ]
  },
  {
   "cell_type": "code",
   "execution_count": 2,
   "metadata": {},
   "outputs": [
    {
     "name": "stdout",
     "output_type": "stream",
     "text": [
      "[[1, 2], [3, 4], [5, 6]]\n"
     ]
    }
   ],
   "source": [
    "a = [[1, 2], [3, 4], [5, 6]]\n",
    "b = [l for l in a]\n",
    "print(b)"
   ]
  }
 ],
 "metadata": {
  "kernelspec": {
   "display_name": ".venv",
   "language": "python",
   "name": "python3"
  },
  "language_info": {
   "codemirror_mode": {
    "name": "ipython",
    "version": 3
   },
   "file_extension": ".py",
   "mimetype": "text/x-python",
   "name": "python",
   "nbconvert_exporter": "python",
   "pygments_lexer": "ipython3",
   "version": "3.11.6"
  }
 },
 "nbformat": 4,
 "nbformat_minor": 2
}
