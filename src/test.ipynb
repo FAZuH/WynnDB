{
 "cells": [
  {
   "cell_type": "code",
   "execution_count": 2,
   "metadata": {},
   "outputs": [
    {
     "data": {
      "text/plain": [
       "<Task pending name='Task-5' coro=<RequestBase.start() running at c:\\Users\\user\\VSCodeProjects\\Vindicator\\src\\request\\request.py:22>>"
      ]
     },
     "execution_count": 2,
     "metadata": {},
     "output_type": "execute_result"
    }
   ],
   "source": [
    "import asyncio\n",
    "\n",
    "from request.request import Request\n",
    "\n",
    "vdc_request = Request()\n",
    "\n",
    "asyncio.create_task(vdc_request.start())\n"
   ]
  },
  {
   "cell_type": "code",
   "execution_count": 3,
   "metadata": {},
   "outputs": [],
   "source": [
    "online_players = asyncio.create_task(vdc_request.get_online_players())\n",
    "avicia = asyncio.create_task(vdc_request.get_guild_stats(\"Avicia\", False))\n",
    "lindafelix = asyncio.create_task(vdc_request.get_player_stats(\"lindafelix\"))"
   ]
  },
  {
   "cell_type": "code",
   "execution_count": 4,
   "metadata": {},
   "outputs": [],
   "source": [
    "from pprint import pprint"
   ]
  },
  {
   "cell_type": "code",
   "execution_count": 7,
   "metadata": {},
   "outputs": [],
   "source": [
    "online_player_resp = online_players.result()\n",
    "lindafelix_resp = lindafelix.result()\n",
    "avicia_resp = avicia.result()"
   ]
  },
  {
   "cell_type": "code",
   "execution_count": 14,
   "metadata": {},
   "outputs": [
    {
     "name": "stdout",
     "output_type": "stream",
     "text": [
      "{'Allow': 'GET, HEAD, OPTIONS',\n",
      " 'CF-Cache-Status': 'DYNAMIC',\n",
      " 'CF-RAY': '819b0fb77866354a-CGK',\n",
      " 'Cache-Control': 'max-age=30',\n",
      " 'Connection': 'keep-alive',\n",
      " 'Content-Encoding': 'gzip',\n",
      " 'Content-Type': 'application/json',\n",
      " 'Cross-Origin-Opener-Policy': 'same-origin',\n",
      " 'Date': 'Sat, 21 Oct 2023 17:01:15 GMT',\n",
      " 'Expires': 'Sat, 21 Oct 2023 17:01:34 GMT',\n",
      " 'Referrer-Policy': 'same-origin',\n",
      " 'Server': 'cloudflare',\n",
      " 'Transfer-Encoding': 'chunked',\n",
      " 'Vary': 'Cookie, origin',\n",
      " 'Version': 'v3.1',\n",
      " 'Via': 'kong/3.2.2',\n",
      " 'X-Content-Type-Options': 'nosniff',\n",
      " 'X-Frame-Options': 'DENY',\n",
      " 'X-Kong-Proxy-Latency': '0',\n",
      " 'X-Kong-Upstream-Latency': '4'}\n"
     ]
    }
   ],
   "source": [
    "head_dict = {k: v for k, v in online_player_resp.headers.items()}\n",
    "pprint(head_dict)"
   ]
  }
 ],
 "metadata": {
  "kernelspec": {
   "display_name": "Python 3",
   "language": "python",
   "name": "python3"
  },
  "language_info": {
   "codemirror_mode": {
    "name": "ipython",
    "version": 3
   },
   "file_extension": ".py",
   "mimetype": "text/x-python",
   "name": "python",
   "nbconvert_exporter": "python",
   "pygments_lexer": "ipython3",
   "version": "3.11.1"
  }
 },
 "nbformat": 4,
 "nbformat_minor": 2
}
