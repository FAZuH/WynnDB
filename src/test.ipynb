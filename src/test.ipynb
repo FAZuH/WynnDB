{
 "cells": [
  {
   "cell_type": "code",
   "execution_count": 3,
   "metadata": {},
   "outputs": [],
   "source": [
    "from pprint import pprint\n",
    "import time\n",
    "from datetime import datetime\n",
    "from dateutil import tz\n",
    "import pytz\n",
    "import json\n",
    "from uuid import UUID\n",
    "import asyncio\n",
    "from copy import deepcopy\n",
    "from request.request_wynncraft import RequestWynncraft\n",
    "from database.vindicator_database import VindicatorDatabase\n",
    "\n",
    "from typing import TYPE_CHECKING, Any, Dict, List\n",
    "\n",
    "if TYPE_CHECKING:\n",
    "    from aiohttp import ClientResponse"
   ]
  },
  {
   "cell_type": "code",
   "execution_count": 33,
   "metadata": {},
   "outputs": [
    {
     "data": {
      "text/plain": [
       "<Task pending name='Task-17' coro=<ainit_all() running at C:\\Users\\user\\AppData\\Local\\Temp\\ipykernel_11044\\2071137605.py:1>>"
      ]
     },
     "execution_count": 33,
     "metadata": {},
     "output_type": "execute_result"
    }
   ],
   "source": [
    "async def ainit_all():\n",
    "    await VindicatorDatabase.ainit()\n",
    "    await RequestWynncraft.ainit()\n",
    "\n",
    "asyncio.create_task(ainit_all())"
   ]
  },
  {
   "cell_type": "code",
   "execution_count": 34,
   "metadata": {},
   "outputs": [],
   "source": [
    "def test1():\n",
    "    query1 = \"INSERT INTO test (timestamp) VALUES (%(timestamp)s)\"\n",
    "    params1 = [{\"timestamp\": datetime.fromtimestamp(ts)} for ts in range(int(time.time()), int(time.time()) + 1_000_000)]\n",
    "    coro1 = VindicatorDatabase.write_many(query1, params1)\n",
    "    task1 = asyncio.create_task(coro1)\n",
    "    return task1\n",
    "\n",
    "def test2():\n",
    "    query2 = \"INSERT INTO test_int (timestamp) VALUES (%(timestamp)s)\"\n",
    "    params2 = [{\"timestamp\": ts} for ts in range(int(time.time()), int(time.time()) + 1_000_000)]\n",
    "    coro2 = VindicatorDatabase.write_many(query2, params2)\n",
    "    task2 = asyncio.create_task(coro2)\n",
    "    return task2\n",
    "\n",
    "def test3():\n",
    "    query = \"SELECT timestamp FROM test LIMIT 10\"\n",
    "    coro1 = VindicatorDatabase.read_all(query)\n",
    "    task1 = asyncio.create_task(coro1)\n",
    "    return task1\n",
    "\n",
    "def test4():\n",
    "    query = \"SELECT timestamp FROM test_int LIMIT 10\"\n",
    "    coro1 = VindicatorDatabase.read_all(query)\n",
    "    task1 = asyncio.create_task(coro1)\n",
    "    return task1\n",
    "\n",
    "def test5():\n",
    "    query = (\n",
    "        \"INSERT INTO player_main_info (uuid, latest_username, timestamp) \"\n",
    "        \"VALUES (%(uuid)s, %(latest_username)s, %(timestamp)s)\"\n",
    "    )\n",
    "    with open(\"uuid-username-timestamp.json\", \"r\") as f:\n",
    "        data = json.load(f)\n",
    "\n",
    "    for record in data:\n",
    "        record[\"uuid\"] = UUID(record[\"uuid\"]).bytes\n",
    "\n",
    "    params = data\n",
    "    coro = VindicatorDatabase.write_many(query, params)\n",
    "    task = asyncio.create_task(coro)\n",
    "    return task"
   ]
  },
  {
   "cell_type": "code",
   "execution_count": 35,
   "metadata": {},
   "outputs": [],
   "source": [
    "task = test5()"
   ]
  },
  {
   "cell_type": "code",
   "execution_count": 40,
   "metadata": {},
   "outputs": [
    {
     "name": "stdout",
     "output_type": "stream",
     "text": [
      "task.done()=True\n",
      "task.result()=None\n"
     ]
    }
   ],
   "source": [
    "print(f\"{task.done()=}\")\n",
    "print(f\"{task.result()=}\")"
   ]
  },
  {
   "cell_type": "code",
   "execution_count": null,
   "metadata": {},
   "outputs": [
    {
     "data": {
      "text/plain": [
       "<Task pending name='Task-20' coro=<RequestBase._close() running at c:\\Users\\user\\VSCodeProjects\\Vindicator\\src\\request\\request_base.py:34>>"
      ]
     },
     "execution_count": 39,
     "metadata": {},
     "output_type": "execute_result"
    },
    {
     "name": "stderr",
     "output_type": "stream",
     "text": [
      "Task exception was never retrieved\n",
      "future: <Task finished name='Task-19' coro=<DatabaseBase._close_connection() done, defined at c:\\Users\\user\\VSCodeProjects\\Vindicator\\src\\database\\database_base.py:20> exception=TypeError(\"object NoneType can't be used in 'await' expression\")>\n",
      "Traceback (most recent call last):\n",
      "  File \"c:\\Users\\user\\VSCodeProjects\\Vindicator\\src\\database\\database_base.py\", line 23, in _close_connection\n",
      "    await cls._connection.close()\n",
      "TypeError: object NoneType can't be used in 'await' expression\n"
     ]
    }
   ],
   "source": [
    "asyncio.create_task(VindicatorDatabase._close_connection())\n",
    "asyncio.create_task(RequestWynncraft().session._close())"
   ]
  }
 ],
 "metadata": {
  "kernelspec": {
   "display_name": ".venv",
   "language": "python",
   "name": "python3"
  },
  "language_info": {
   "name": "python",
   "version": "3.11.6"
  }
 },
 "nbformat": 4,
 "nbformat_minor": 2
}
