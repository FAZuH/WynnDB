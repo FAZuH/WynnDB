{
 "cells": [
  {
   "cell_type": "code",
   "execution_count": null,
   "metadata": {},
   "outputs": [],
   "source": [
    "from pprint import pprint\n",
    "import time\n",
    "from datetime import datetime\n",
    "from dateutil import tz\n",
    "import pytz\n",
    "import json\n",
    "from uuid import UUID\n",
    "import asyncio\n",
    "from copy import deepcopy\n",
    "from vindicator.request.request_wynncraft import RequestWynncraft\n",
    "from vindicator.database.vindicator_database import VindicatorDatabase\n",
    "\n",
    "from typing import TYPE_CHECKING, Any, Dict, List\n",
    "\n",
    "if TYPE_CHECKING:\n",
    "    from aiohttp import ClientResponse"
   ]
  },
  {
   "cell_type": "code",
   "execution_count": null,
   "metadata": {},
   "outputs": [],
   "source": [
    "def get_json(filename: str) -> Any:\n",
    "    with open(filename, \"r\") as f:\n",
    "        return json.load(f)\n",
    "\n",
    "uuid_usernames_timestamp = get_json(\"uuid-username-timestamp.json\")\n",
    "asyncio.create_task(VindicatorDatabase.ainit())\n"
   ]
  },
  {
   "cell_type": "code",
   "execution_count": null,
   "metadata": {},
   "outputs": [],
   "source": [
    "class Main:\n",
    "\n",
    "    def __init__(self, uuid_usernames: List[Dict[str, str]]) -> None:\n",
    "        self.uuid_usernames: List[Dict[str, str]] = uuid_usernames\n",
    "\n",
    "    async def main(self):\n",
    "        print(f\"Attempting to insert {len(self.uuid_usernames)} username-uuid pairs to database\")\n",
    "        self.parse_uuid()\n",
    "\n",
    "        print(type(self.uuid_usernames[0][\"uuid\"]))\n",
    "        await self.to_db()\n",
    "\n",
    "    def parse_uuid(self):\n",
    "        for uuid_username in self.uuid_usernames:\n",
    "            uuid_username[\"uuid\"] = UUID(uuid_username[\"uuid\"]).bytes\n",
    "\n",
    "    async def to_db(self):\n",
    "        t0 = time.perf_counter()\n",
    "        query = (\n",
    "            \"INSERT INTO player_main_info (uuid, latest_username, timestamp) \"\n",
    "            \"VALUES (%(uuid)s, %(latest_username)s, FROM_UNIXTIME(%(timestamp)s))\"\n",
    "        )\n",
    "        print(f\"Attempting to insert {len(self.uuid_usernames)} username-uuid pairs into database\")\n",
    "        await VindicatorDatabase.write_many(query, self.uuid_usernames)\n",
    "        print(f\"Inserted username-uuid pairs into database. Duration={time.perf_counter() - t0:.2f}s\")\n"
   ]
  },
  {
   "cell_type": "code",
   "execution_count": null,
   "metadata": {},
   "outputs": [],
   "source": [
    "main = Main(deepcopy(uuid_usernames_timestamp))\n",
    "main_task = asyncio.create_task(main.main())"
   ]
  },
  {
   "cell_type": "code",
   "execution_count": null,
   "metadata": {},
   "outputs": [],
   "source": [
    "print(main_task.done())\n",
    "print(main_task.result())"
   ]
  },
  {
   "cell_type": "code",
   "execution_count": null,
   "metadata": {},
   "outputs": [],
   "source": [
    "main_task.cancel()"
   ]
  },
  {
   "cell_type": "code",
   "execution_count": null,
   "metadata": {},
   "outputs": [],
   "source": []
  },
  {
   "cell_type": "code",
   "execution_count": null,
   "metadata": {},
   "outputs": [],
   "source": [
    "# async def main():\n",
    "#     await VindicatorDatabase.ainit()\n",
    "#     tables = await VindicatorDatabase.read_all(query=\"SHOW TABLES IN player_data;\")\n",
    "#     return tables\n",
    "\n",
    "# tables = asyncio.gather(main())"
   ]
  },
  {
   "cell_type": "code",
   "execution_count": null,
   "metadata": {},
   "outputs": [],
   "source": [
    "# for e in tables.result()[0]:\n",
    "#     print(f\"{e['Tables_in_player_data'].upper()} = \\\"{e['Tables_in_player_data']}\\\"\")"
   ]
  },
  {
   "cell_type": "code",
   "execution_count": null,
   "metadata": {},
   "outputs": [],
   "source": [
    "req_wynn = RequestWynncraft()\n",
    "mojang_api = API()\n",
    "asyncio.create_task(req_wynn.ainit())"
   ]
  },
  {
   "cell_type": "code",
   "execution_count": null,
   "metadata": {},
   "outputs": [],
   "source": [
    "type(req_wynn.session._client_session)"
   ]
  },
  {
   "cell_type": "code",
   "execution_count": null,
   "metadata": {},
   "outputs": [],
   "source": [
    "online_players = asyncio.create_task(req_wynn.get_online_player_list())\n",
    "online_players_client_resp = asyncio.create_task(req_wynn.get_online_player_list(json_response=False))\n",
    "current_timestamp = int(time())\n",
    "# avicia = asyncio.create_task(req_wynn.get_guild_stats(\"Avicia\", False))\n",
    "# lindafelix = asyncio.create_task(req_wynn.get_player_stats(\"lindafelix\"))\n",
    "# fazuh = asyncio.create_task(req_wynn.get_player_stats(\"FAZuH\"))\n",
    "# marcus = asyncio.create_task(req_wynn.get_player_stats(\"Maarcus1\"))"
   ]
  },
  {
   "cell_type": "code",
   "execution_count": null,
   "metadata": {},
   "outputs": [],
   "source": [
    "pprint(pytz.all_timezones)"
   ]
  },
  {
   "cell_type": "code",
   "execution_count": null,
   "metadata": {},
   "outputs": [],
   "source": [
    "r: \"ClientResponse\" = online_players_client_resp.result()\n",
    "\n",
    "dates_request = datetime.strftime(datetime.fromtimestamp(current_timestamp), \"%a, %d %b %Y %H:%M:%S %Z\")\n",
    "dates_response = r.headers[\"Date\"][:-4]\n",
    "\n",
    "print(f\"{dates_request=}\")\n",
    "print(f\"{dates_response=}\")\n",
    "\n",
    "ts_request = current_timestamp\n",
    "ts_response = datetime.strptime(r.headers[\"Date\"], \"%a, %d %b %Y %H:%M:%S %Z\").replace(tzinfo=tz.tzutc()).timestamp()\n",
    "\n",
    "print()\n",
    "print(f\"{ts_request=}\")\n",
    "print(f\"{ts_response=}\")\n",
    "\n",
    "print()\n",
    "print(f\"{ts_request - ts_response=}\")\n"
   ]
  },
  {
   "cell_type": "code",
   "execution_count": null,
   "metadata": {},
   "outputs": [],
   "source": [
    "online_players_content = online_players.result()\n",
    "online_usernames = list(online_players_content['players'].keys())\n",
    "# fazuh_content = fazuh.result()\n",
    "# marcus_content = marcus.result()\n",
    "# lindafelix_content = lindafelix.result()"
   ]
  },
  {
   "cell_type": "code",
   "execution_count": null,
   "metadata": {},
   "outputs": [],
   "source": [
    "marcus_ch_uuids = [e for e in marcus_content[\"characters\"].keys()]\n",
    "lindafelix_ch_uuids = [e for e in lindafelix_content[\"characters\"].keys()]"
   ]
  },
  {
   "cell_type": "code",
   "execution_count": null,
   "metadata": {},
   "outputs": [],
   "source": [
    "xps = []\n",
    "blockss = []\n",
    "items_idd = []\n",
    "skillpoints = []\n",
    "raids = []\n",
    "def thing(content: dict):\n",
    "    xps = []\n",
    "    blockss = []\n",
    "    items_idd = []\n",
    "    skillpoints = []\n",
    "    raids = []\n",
    "    ch_uuids = [e for e in content[\"characters\"].keys()]\n",
    "    for chuuid in ch_uuids:\n",
    "        xps.append(content[\"characters\"][chuuid][\"xp\"])\n",
    "        blockss.append(content[\"characters\"][chuuid][\"blocksWalked\"])\n",
    "        items_idd.append(content[\"characters\"][chuuid][\"itemsIdentified\"])\n",
    "        skillpoints.append(content[\"characters\"][chuuid][\"skillPoints\"])\n",
    "        if content[\"characters\"][chuuid][\"raids\"]:\n",
    "            raids.append(content[\"characters\"][chuuid][\"raids\"][\"list\"])\n",
    "    return xps, blockss, items_idd, skillpoints, raids"
   ]
  },
  {
   "cell_type": "code",
   "execution_count": null,
   "metadata": {},
   "outputs": [],
   "source": [
    "pprint(thing(marcus_content)[-1])"
   ]
  },
  {
   "cell_type": "code",
   "execution_count": 34,
   "metadata": {},
   "outputs": [
    {
     "name": "stdout",
     "output_type": "stream",
     "text": [
      "['a_', 'ab']\n"
     ]
    }
   ],
   "source": [
    "a = [\"a_\", \"ab\"]\n",
    "print(sorted(a))"
   ]
  }
 ],
 "metadata": {
  "kernelspec": {
   "display_name": "Python 3",
   "language": "python",
   "name": "python3"
  },
  "language_info": {
   "codemirror_mode": {
    "name": "ipython",
    "version": 3
   },
   "file_extension": ".py",
   "mimetype": "text/x-python",
   "name": "python",
   "nbconvert_exporter": "python",
   "pygments_lexer": "ipython3",
   "version": "3.11.6"
  }
 },
 "nbformat": 4,
 "nbformat_minor": 2
}
